{
 "cells": [
  {
   "cell_type": "code",
   "execution_count": 1,
   "metadata": {},
   "outputs": [],
   "source": [
    "import matplotlib\n",
    "from pydub import AudioSegment\n",
    "#from pydub.silence import split_on_silence\n",
    "import librosa\n",
    "import librosa.display\n"
   ]
  },
  {
   "cell_type": "code",
   "execution_count": null,
   "metadata": {},
   "outputs": [],
   "source": [
    "path_to_audio = \"path-to folder\"\n",
    "#file_name = file_.split(\".\")[0]\n",
    "#a = file_name.split(\".\")[0]\n",
    "\n",
    "y, sr = librosa.load(path_to_audio)\n",
    "melspec = librosa.feature.melspectrogram(y=y, sr=sr)\n",
    "log_melspec = librosa.logamplitude(melspec, ref_power = np.max)\n",
    "plt.figure(dpi=(100))\n",
    "librosa.display.specshow(log_melspec)\n",
    "plt.savefig(\"destination-path/1.png\", bbox_inches = 'tight', pad_inches = 0)\n",
    "plt.close()"
   ]
  },
  {
   "cell_type": "code",
   "execution_count": null,
   "metadata": {},
   "outputs": [],
   "source": []
  }
 ],
 "metadata": {
  "kernelspec": {
   "display_name": "Python 3",
   "language": "python",
   "name": "python3"
  },
  "language_info": {
   "codemirror_mode": {
    "name": "ipython",
    "version": 2
   },
   "file_extension": ".py",
   "mimetype": "text/x-python",
   "name": "python",
   "nbconvert_exporter": "python",
   "pygments_lexer": "ipython2",
   "version": "2.7.15"
  }
 },
 "nbformat": 4,
 "nbformat_minor": 2
}
