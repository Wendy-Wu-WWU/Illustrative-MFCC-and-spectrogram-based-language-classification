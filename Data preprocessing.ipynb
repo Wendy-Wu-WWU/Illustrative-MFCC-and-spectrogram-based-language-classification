{
 "cells": [
  {
   "cell_type": "code",
   "execution_count": null,
   "metadata": {},
   "outputs": [],
   "source": [
    "from pydub import AudioSegment\n",
    "#from pydub.silence import split_on_silence\n",
    "import librosa\n",
    "import os, glob\n",
    "import numpy as np\n",
    "import matplotlib\n",
    "import matplotlib.pyplot as plt\n",
    "import librosa.display\n",
    "os.getcwd()"
   ]
  },
  {
   "cell_type": "code",
   "execution_count": null,
   "metadata": {},
   "outputs": [],
   "source": [
    "\n",
    "Folder_Path = \"path-to-data\"\n"
   ]
  },
  {
   "cell_type": "markdown",
   "metadata": {},
   "source": [
    "Mp3 to wav"
   ]
  },
  {
   "cell_type": "code",
   "execution_count": null,
   "metadata": {
    "scrolled": true
   },
   "outputs": [],
   "source": [
    "#for convertion from mp3 to wav\n",
    "for path, subdirs, files in os.walk(Folder_Path):\n",
    "    for file_ in files:\n",
    "        path_to_audio = path+file_\n",
    "        file_name = file_.split(\".\")[0]\n",
    "        sound_file = AudioSegment.from_mp3(path_to_audio)\n",
    "        sound_file.export(Folder_Path +file_name+\"_.wav\", format = \"wav\")\n",
    "        os.remove(path_to_audio)"
   ]
  },
  {
   "cell_type": "markdown",
   "metadata": {},
   "source": [
    "Mono to stereo"
   ]
  },
  {
   "cell_type": "code",
   "execution_count": null,
   "metadata": {},
   "outputs": [],
   "source": [
    "#for conversion to mono from stereo\n",
    "for path, subdirs, files in os.walk(Folder_Path):\n",
    "    for file_ in files:\n",
    "        path_to_audio = path+file_\n",
    "        #path_to_audio= \"/home/telxsi.com/snigdha.n/Desktop/jap_aug1/japanese.wav\"\n",
    "        file_name = file_.split(\".\")[0]\n",
    "        sound = AudioSegment.from_wav(path_to_audio)\n",
    "        try:\n",
    "        \n",
    "            sound = sound.set_channels(1)\n",
    "        except:\n",
    "            pass\n",
    "        \n",
    "        \n",
    "        sound.export(path+file_name+\"mono.wav\", format = \"wav\")\n",
    "        os.remove(path_to_audio)"
   ]
  },
  {
   "cell_type": "code",
   "execution_count": null,
   "metadata": {},
   "outputs": [],
   "source": [
    "for path, subdirs, files in os.walk(Folder_Path):\n",
    "    for file_ in files:\n",
    "        path_to_audio = path+file_\n",
    "        file_name = file_.split(\".\")[0]\n",
    "        clip = AudioSegment.from_wav(path_to_audio)\n",
    "        #clip=clip.set_channels(1)\n",
    "\n",
    "        for i in range(0, int(clip.duration_seconds*1000), 100000):\n",
    "            chunks = clip[i:i+100000]\n",
    "            chunks.export(path+file_name+\"_Chunk_\"+str(i)+\"_.wav\", format=\"wav\")\n",
    "        os.remove(path+file_name+\"_Chunk_\"+str(i)+\"_.wav\")\n",
    "        os.remove(path_to_audio)"
   ]
  },
  {
   "cell_type": "markdown",
   "metadata": {},
   "source": [
    "Silence clipping and Augmentation"
   ]
  },
  {
   "cell_type": "code",
   "execution_count": null,
   "metadata": {},
   "outputs": [],
   "source": [
    "#for silence clipping and augmentation\n",
    "\n",
    "for path, subdirs, files in os.walk(Folder_Path):\n",
    "    for file_ in files:\n",
    "        path_to_audio = path+file_\n",
    "        file_name = file_.split(\".\")[0]\n",
    "        sound_file = AudioSegment.from_wav(path_to_audio)\n",
    "        print(\"Org   \",sound_file.duration_seconds)\n",
    "        audio_chunks = split_on_silence(sound_file, min_silence_len=500, silence_thresh = sound_file.dBFS-3)\n",
    "        if audio_chunks != None:\n",
    "            clip = audio_chunks[0][0:110]\n",
    "            for i, chunk in enumerate(audio_chunks):\n",
    "                clip = clip.append(chunk)\n",
    "            clip.set_frame_rate(8000)\n",
    "            clip.export(path+file_name+\"_clipped_.wav\", format=\"wav\")\n",
    "        else:\n",
    "            clip = sound_file\n",
    "            clip.set_frame_rate(8000)\n",
    "            clip.export(path+file_name+\"_clipped_.wav\", format=\"wav\")\n",
    "        print(\"Clipped\",clip.duration_seconds)\n",
    "        \n",
    "        os.remove(path+file_)\n",
    "for path, subdirs, files in os.walk(Folder_Path):\n",
    "    for file_ in files:\n",
    "        path_to_audio = path+file_\n",
    "        file_name = file_.split(\".\")[0]\n",
    "        sound_file = AudioSegment.from_wav(path_to_audio)\n",
    "        \n",
    "        \n",
    "        faster_sound = sound_file.speedup(playback_speed=1.15)\n",
    "        faster_sound.export(path+file_name+\"_Speed_1_15_.wav\", format = \"wav\")\n",
    "        faster_sound = sound_file.speedup(playback_speed=1.25)\n",
    "        faster_sound.export(path+file_name+\"_Speed_1_25_.wav\", format = \"wav\")\n",
    "        \n",
    "        octaves = 0.5\n",
    "        \n",
    "        new_sample_rate = int(sound_file.frame_rate * (1.2 ** octaves))\n",
    "        hipitch_sound = sound_file._spawn(sound_file.raw_data, overrides={'frame_rate': new_sample_rate})\n",
    "        hipitch_sound = hipitch_sound.set_frame_rate(44100)        \n",
    "        hipitch_sound.export(path+file_name+\"_Pitch_1_2_.wav\", format=\"wav\")  \n",
    "        \n",
    "        new_sample_rate = int(sound_file.frame_rate * (0.8 ** octaves))\n",
    "        hipitch_sound = sound_file._spawn(sound_file.raw_data, overrides={'frame_rate': new_sample_rate})\n",
    "        hipitch_sound = hipitch_sound.set_frame_rate(44100)\n",
    "        hipitch_sound.export(path+file_name+\"_Pitch_0_8_.wav\", format=\"wav\")\n",
    "\n",
    "\n",
    "     "
   ]
  },
  {
   "cell_type": "markdown",
   "metadata": {},
   "source": [
    "Setting the sampling rate"
   ]
  },
  {
   "cell_type": "code",
   "execution_count": null,
   "metadata": {},
   "outputs": [],
   "source": [
    "for path, subdirs, files in os.walk(Folder_Path):\n",
    "    for file_ in files:\n",
    "        path_to_audio = path+file_\n",
    "        file_name = file_.split(\".\")[0]\n",
    "        sound_file = AudioSegment.from_wav(path_to_audio)\n",
    "        print(\"Org   \",sound_file.duration_seconds)\n",
    "        clip.set_frame_rate(8000)"
   ]
  },
  {
   "cell_type": "markdown",
   "metadata": {},
   "source": [
    "Chunking the files"
   ]
  },
  {
   "cell_type": "code",
   "execution_count": null,
   "metadata": {},
   "outputs": [],
   "source": [
    "for path, subdirs, files in os.walk(Folder_Path):\n",
    "    for file_ in files:\n",
    "        path_to_audio = Folder_Path+file_\n",
    "        file_name = file_.split(\".\")[0]\n",
    "        clip = AudioSegment.from_wav(path_to_audio)\n",
    "        clip = clip.set_frame_rate(16000)\n",
    "\n",
    "        for i in range(0, int(clip.duration_seconds*1000), 10000):\n",
    "            chunks = clip[i:i+10000]\n",
    "            chunks = chunks.set_frame_rate(16000)\n",
    "            chunks.export(path+file_name+\"Chunk_\"+str(i)+\"_.wav\", format=\"wav\")\n",
    "        os.remove(path+file_name+\"Chunk_\"+str(i)+\"_.wav\")\n",
    "        os.remove(path_to_audio)"
   ]
  },
  {
   "cell_type": "code",
   "execution_count": null,
   "metadata": {},
   "outputs": [],
   "source": []
  },
  {
   "cell_type": "code",
   "execution_count": null,
   "metadata": {},
   "outputs": [],
   "source": [
    "for path, subdirs, files in os.walk(Folder_Path):\n",
    "    for file_ in files:\n",
    "        path_to_audio = path+file_\n",
    "        file_name = file_.split(\".\")[0]\n",
    "        a = file_name.split(\".\")[0]\n",
    "\n",
    "        y, sr = librosa.load(path_to_audio)\n",
    "        melspec = librosa.feature.melspectrogram(y=y, sr=sr)\n",
    "        log_melspec = librosa.core.amplitude_to_db(melspec)\n",
    "        plt.figure(dpi=(100))\n",
    "        librosa.display.specshow(log_melspec)\n",
    "        plt.savefig(\"/home/nupur/Documents/Trailer_analysis/sound_track_analysis/spectrogram_1/\"+a+\".png\", bbox_inches = 'tight', pad_inches = 0)\n",
    "        plt.close()\n",
    "        "
   ]
  },
  {
   "cell_type": "code",
   "execution_count": null,
   "metadata": {},
   "outputs": [],
   "source": []
  },
  {
   "cell_type": "code",
   "execution_count": null,
   "metadata": {},
   "outputs": [],
   "source": []
  }
 ],
 "metadata": {
  "kernelspec": {
   "display_name": "Python 3",
   "language": "python",
   "name": "python3"
  },
  "language_info": {
   "codemirror_mode": {
    "name": "ipython",
    "version": 2
   },
   "file_extension": ".py",
   "mimetype": "text/x-python",
   "name": "python",
   "nbconvert_exporter": "python",
   "pygments_lexer": "ipython2",
   "version": "2.7.15"
  }
 },
 "nbformat": 4,
 "nbformat_minor": 2
}
