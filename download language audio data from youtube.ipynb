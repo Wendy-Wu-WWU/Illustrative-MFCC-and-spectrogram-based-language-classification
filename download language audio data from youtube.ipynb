{
 "cells": [
  {
   "cell_type": "code",
   "execution_count": null,
   "metadata": {},
   "outputs": [],
   "source": [
    "import sys\n",
    "#sys.path.insert(0,'/home/test/Downloads/youtube-dl-master')\n",
    "from __future__ import unicode_literals\n",
    "import youtube_dl\n",
    "import os\n",
    "\n",
    "\n",
    "\n",
    "print (\"in youtube dl\")\n",
    "'''\n",
    "ydl_opts = {\n",
    "    'format': 'bestaudio/best',\n",
    "    'postprocessors': [{\n",
    "        'key': 'FFmpegExtractAudio',\n",
    "        'preferredcodec': 'mp3',\n",
    "        'preferredquality': '192',\n",
    "    }],\n",
    "    \n",
    "    \n",
    "}\n",
    "\n",
    "'''\n",
    "\n",
    "\n",
    "\n",
    "os.chdir(\"path-to-store\")\n",
    "ydl_opts = {\n",
    "    'format': 'bestaudio/best',\n",
    "    'postprocessors': [{\n",
    "        'key': 'FFmpegExtractAudio',\n",
    "        'preferredcodec': 'wav',\n",
    "        'preferredquality': '192',\n",
    "    }],\n",
    "    'nocheckcertificate':'Do not verify SSL certificates'\n",
    "}\n",
    "\n",
    "\n",
    "print (\"executed the opts\")\n",
    "with youtube_dl.YoutubeDL(ydl_opts) as ydl:\n",
    "   \n",
    "    ydl.download(['https://www.youtube.com/watch?v=GokKUqLcvD8'])\n"
   ]
  }
 ],
 "metadata": {
  "kernelspec": {
   "display_name": "Python 3",
   "language": "python",
   "name": "python3"
  },
  "language_info": {
   "codemirror_mode": {
    "name": "ipython",
    "version": 2
   },
   "file_extension": ".py",
   "mimetype": "text/x-python",
   "name": "python",
   "nbconvert_exporter": "python",
   "pygments_lexer": "ipython2",
   "version": "2.7.15"
  }
 },
 "nbformat": 4,
 "nbformat_minor": 2
}
